{
 "cells": [
  {
   "cell_type": "markdown",
   "id": "3793abb1",
   "metadata": {},
   "source": [
    "# Implementing a Neural Network From Scratch\n",
    "### This notebook is a personal exercise in implementing a Neural Netowork from scratch (i.e., no frameworks).\n",
    "### I intend to explain as many of specifics as I can, primarily to educate myself, and secondarily to anyone who views this."
   ]
  },
  {
   "cell_type": "markdown",
   "id": "ce6696e7",
   "metadata": {},
   "source": [
    "# Part 1 - Importing, Exploring, and Preparing the Data\n",
    "### This notebook uses the MNIST dataset to classify hand-written digits. Typically image classification is done with Convolutional Neural Networks, but these images are simple enough that processing with a standard neural network is feasible."
   ]
  },
  {
   "cell_type": "code",
   "execution_count": 72,
   "id": "6bc3bb6f",
   "metadata": {},
   "outputs": [],
   "source": [
    "# Load the relevant libraries\n",
    "import numpy as np\n",
    "import matplotlib.pyplot as plt\n",
    "import time\n",
    "from tensorflow.keras.datasets import mnist # This is the dataset, not using any frameworks in this notebook.\n"
   ]
  },
  {
   "cell_type": "code",
   "execution_count": 2,
   "id": "4de814da",
   "metadata": {},
   "outputs": [],
   "source": [
    "# Load the Data\n",
    "(X_train, Y_train), (X_test, Y_test) = mnist.load_data()\n",
    "X_tr, Y_tr, X_tst, Y_tst = X_train, Y_train, X_test, Y_test"
   ]
  },
  {
   "cell_type": "code",
   "execution_count": 3,
   "id": "738d4f27",
   "metadata": {},
   "outputs": [
    {
     "data": {
      "image/png": "[encoded data removed]",
      "text/plain": [
       "<Figure size 432x288 with 1 Axes>"
      ]
     },
     "metadata": {
      "needs_background": "light"
     },
     "output_type": "display_data"
    },
    {
     "name": "stdout",
     "output_type": "stream",
     "text": [
      "    This image is labeled as a \"9\"\n",
      "\n"
     ]
    }
   ],
   "source": [
    "# Visualize an Example, any example\n",
    "ex_img = 4\n",
    "image = X_train[ex_img]\n",
    "fig = plt.figure\n",
    "plt.imshow(image, cmap='gray')\n",
    "plt.show()\n",
    "print(f'    This image is labeled as a \"{Y_train[ex_img]}\"\\n')"
   ]
  },
  {
   "cell_type": "code",
   "execution_count": 4,
   "id": "08b99eeb",
   "metadata": {},
   "outputs": [
    {
     "name": "stdout",
     "output_type": "stream",
     "text": [
      "Each image is of type: <class 'numpy.ndarray'>\n",
      "\n",
      "Each image is of size: (28, 28)\n",
      "\n",
      "There are 60000 example images in X_train, with 60000 labels.\n",
      "\n",
      "X_train is of shape (60000, 28, 28) and Y_train is of shape (60000,).\n",
      "\n",
      "The minimum value in an array is 0, while the max is 255. (Typical for color values)\n"
     ]
    }
   ],
   "source": [
    "# Learn about the data\n",
    "print(f'Each image is of type: {type(image)}\\n')\n",
    "print(f'Each image is of size: {np.shape(image)}\\n')\n",
    "print(f'There are {len(X_train)} example images in X_train, with {len(Y_train)} labels.\\n')\n",
    "print(f'X_train is of shape {np.shape(X_train)} and Y_train is of shape {np.shape(Y_train)}.\\n')\n",
    "print(f'The minimum value in an array is {np.min(X_train)}, while the max is {np.max(X_train)}. (Typical for color values)')"
   ]
  },
  {
   "cell_type": "code",
   "execution_count": 5,
   "id": "4f611755",
   "metadata": {},
   "outputs": [
    {
     "name": "stdout",
     "output_type": "stream",
     "text": [
      "The array of flattened images is of shape (10000, 784).\n",
      "\n"
     ]
    }
   ],
   "source": [
    "# Flatten each of the images so each image is a single row (i.e, the array will be of shape (60,000, 28x28)).\n",
    "X_train = X_train.reshape(len(X_train), -1)\n",
    "X_test = X_test.reshape(len(X_test), -1)\n",
    "print(f'The array of flattened images is of shape {np.shape(X_test)}.\\n')"
   ]
  },
  {
   "cell_type": "markdown",
   "id": "51477083",
   "metadata": {},
   "source": [
    "### Data should be standardized or normalized before it can be processed. There are many different methods depending on the type of data. Here, since the values range from 0 to 255, dividing all values by 255 will ensure that all values are between 0 and 1."
   ]
  },
  {
   "cell_type": "code",
   "execution_count": 6,
   "id": "33dc6f34",
   "metadata": {},
   "outputs": [],
   "source": [
    "X_train = X_train / 255\n",
    "X_test = X_test / 255\n",
    "# transpose this matrix so it will be able to be used in a dot-product\n",
    "X_train = np.transpose(X_train)\n",
    "X_test = np.transpose(X_test)"
   ]
  },
  {
   "cell_type": "markdown",
   "id": "58b44d4d",
   "metadata": {},
   "source": [
    "### Converting the labels to one-hot encoded vectors is necessary for the Cost Function"
   ]
  },
  {
   "cell_type": "code",
   "execution_count": 7,
   "id": "1c594c6b",
   "metadata": {},
   "outputs": [
    {
     "name": "stdout",
     "output_type": "stream",
     "text": [
      "The shape of \"y_train_oh\" is (10, 60000).\n",
      "\n",
      "The first several one-hot encode vectors are printed below:\n",
      "\n",
      "[[0. 1. 0. 0. 0. 0. 0. 0. 0. 0. 0. 0. 0. 0. 0. 0. 0. 0. 0. 0.]\n",
      " [0. 0. 0. 1. 0. 0. 1. 0. 1. 0. 0. 0. 0. 0. 1. 0. 0. 0. 0. 0.]\n",
      " [0. 0. 0. 0. 0. 1. 0. 0. 0. 0. 0. 0. 0. 0. 0. 0. 1. 0. 0. 0.]\n",
      " [0. 0. 0. 0. 0. 0. 0. 1. 0. 0. 1. 0. 1. 0. 0. 0. 0. 0. 0. 0.]\n",
      " [0. 0. 1. 0. 0. 0. 0. 0. 0. 1. 0. 0. 0. 0. 0. 0. 0. 0. 0. 0.]\n",
      " [1. 0. 0. 0. 0. 0. 0. 0. 0. 0. 0. 1. 0. 0. 0. 0. 0. 0. 0. 0.]\n",
      " [0. 0. 0. 0. 0. 0. 0. 0. 0. 0. 0. 0. 0. 1. 0. 0. 0. 0. 1. 0.]\n",
      " [0. 0. 0. 0. 0. 0. 0. 0. 0. 0. 0. 0. 0. 0. 0. 1. 0. 0. 0. 0.]\n",
      " [0. 0. 0. 0. 0. 0. 0. 0. 0. 0. 0. 0. 0. 0. 0. 0. 0. 1. 0. 0.]\n",
      " [0. 0. 0. 0. 1. 0. 0. 0. 0. 0. 0. 0. 0. 0. 0. 0. 0. 0. 0. 1.]]\n"
     ]
    }
   ],
   "source": [
    "# Turn each value of the labels into a one-hot vector and transpose.\n",
    "Y_train_oh = np.zeros((np.shape(Y_train)[0], np.max(Y_train) + 1))\n",
    "Y_train_oh[np.arange(len(Y_train)), Y_train] = 1\n",
    "Y_train_oh = np.transpose(Y_train_oh)\n",
    "\n",
    "Y_test_oh = np.zeros((np.shape(Y_test)[0], np.max(Y_test) + 1))\n",
    "Y_test_oh[np.arange(len(Y_test)), Y_test] = 1\n",
    "Y_test_oh = np.transpose(Y_test_oh)\n",
    "\n",
    "# Transpose matrix\n",
    "print(f'The shape of \"y_train_oh\" is {np.shape(Y_train_oh)}.\\n')\n",
    "print('The first several one-hot encode vectors are printed below:\\n')\n",
    "print(Y_train_oh[:, 0:20])\n"
   ]
  },
  {
   "cell_type": "markdown",
   "id": "67aa4e85",
   "metadata": {},
   "source": [
    "# Part 2 - Initializing the Parameters and Network Architecture"
   ]
  },
  {
   "cell_type": "markdown",
   "id": "83258ddf",
   "metadata": {},
   "source": [
    "### I will be creating a Neural Network with 2 hidden layers, which means there will be 3 layers when the output layer is included. Apparently by convention, the input layer does not count as a \"layer\", but I will define it as layer \"0\". The the two hidden layers can have any number of nodes (within reason). The final layer will have 10 nodes, which is chosen since there are 10 output classes (10 digits, 0-9)."
   ]
  },
  {
   "cell_type": "markdown",
   "id": "45b4637d",
   "metadata": {},
   "source": [
    "### Here I create a function that initializes the weight and bias parameters \n",
    "#### Random initialization is necessary for the weights in order to \"break symmetry\". Without this, each node will be computing \"0\", meaning no node will be favored by the network over others, and the network will be \"learning\" nothing.\n",
    "#### Learning Note: I learned from this experience that initialization is more important than I originally conceived. First, I used np.random.rand, which initializes with numbers between 0 and 1. This creates problems later in the process, as computation values will explode, and quickly become unworkable (python starts returning 'nan'). I switched to using np.random.randn, which uses a normal distribution to initialize. I also included a scaling factor, which makes my initialization a method called \"He Initialization\". This works if reLU is used for the activation function."
   ]
  },
  {
   "cell_type": "code",
   "execution_count": 8,
   "id": "1808a59e",
   "metadata": {},
   "outputs": [],
   "source": [
    "def initialize_parameters(nodes):\n",
    "    \"\"\"Initialize the weight matrices and bias vectors\"\"\"\n",
    "    \"\"\"\n",
    "    Inputs: \n",
    "            nodes: vector with the number of nodes in layer[i]\n",
    "            \n",
    "    Outputs:\n",
    "            Weights array - array of arrays that hold the weight values for each layer\n",
    "            Bias array - array of vectors that hold the bias values for each layer\n",
    "    \"\"\"\n",
    "    \n",
    "        # initialize vector to hold weights and bias\n",
    "    layer_weights = []\n",
    "    layer_biases = []\n",
    "        \n",
    "        # Loop through 'nodes' to initialize the weights and biases in layer[i]\n",
    "    for i in range(len(nodes)):\n",
    "        if i == 0: # No weights are needed for layer \"0\" - this is my way of making sure that weights[i] correspond with layer[i]\n",
    "            weights = 'NaN'\n",
    "            b = 'NaN'\n",
    "        else:\n",
    "            # randn should be used, as this creates positive and negative starting weights\n",
    "            # This method (particularly the multiplying of the square root) is called \"He Initialization\"\n",
    "            # It is known to work well for reLU activation.\n",
    "            weights = np.random.randn(nodes[i], nodes[i-1]) * np.sqrt(2 / nodes[i-1])       \n",
    "            b = np.zeros((nodes[i], 1))\n",
    "            \n",
    "        layer_weights.append(weights)\n",
    "        layer_biases.append(b)\n",
    "         \n",
    "    return layer_weights, layer_biases\n",
    "                "
   ]
  },
  {
   "cell_type": "markdown",
   "id": "36d97cc4",
   "metadata": {},
   "source": [
    "# Part 3 - Activation Functions\n",
    "### Activation functions are a crucial part of a neural network. They introduce non-linearities into the model. These non-linearities are what allow the neural network to fit to non-linear curves, which is what makes them useful. There are many activation functions, each of which have their proper use cases. Here, I use ReLU for the hidden layers, and Softmax for the output layer."
   ]
  },
  {
   "cell_type": "markdown",
   "id": "c59c4f0c",
   "metadata": {},
   "source": [
    "### ReLU Activation\n",
    "#### ReLU activation (Rectified Linear Unit) is a function that takes as input the result of $z = wx + b$, (weights multiplied by inputs with an added bias layer) and returns either the value of $z$ or $0$, whichever is greater. This has become the go-to activation function for hidden layers."
   ]
  },
  {
   "cell_type": "code",
   "execution_count": 9,
   "id": "284782fd",
   "metadata": {},
   "outputs": [],
   "source": [
    "def reLU(matrix):\n",
    "    \"\"\" Computes the reLU activation elementwise on the matrix\"\"\"\n",
    "    \"\"\"Input: a numpy array\n",
    "       Output: the reLu activation applied to each element\"\"\"\n",
    "        \n",
    "    matrix = np.maximum(0, matrix) # Choose between the matrix element, or 0, whichever is greater\n",
    "    \n",
    "    return matrix\n"
   ]
  },
  {
   "cell_type": "markdown",
   "id": "a8022c50",
   "metadata": {},
   "source": [
    "### Softmax Activation\n",
    "#### Softmax Activation is a function that is used on the output layer of multi-class classification applications. The purpose is to return a relative probability with respect to every other class. This means that the sum of the results of softmax equals 1. This means that the prediction of the output class is the index of value with the highest number. "
   ]
  },
  {
   "cell_type": "code",
   "execution_count": 10,
   "id": "b165febf",
   "metadata": {},
   "outputs": [],
   "source": [
    "def softmax(array):\n",
    "    \"\"\"Computes the softmax value elementwise in an array\"\"\"\n",
    "    \"\"\"Input: a numpy array\n",
    "       Output: a numpy array of the same size as Input\"\"\"\n",
    "    \n",
    "    soft_array = np.exp(array) / np.sum(np.exp(array), axis=0) # axis=0 indicates summing over rows (summing all the elements in a column)\n",
    "    \n",
    "    return soft_array"
   ]
  },
  {
   "cell_type": "markdown",
   "id": "d688162e",
   "metadata": {},
   "source": [
    "# Part 4  - Forward Propagation"
   ]
  },
  {
   "cell_type": "markdown",
   "id": "73e209df",
   "metadata": {},
   "source": [
    "### Forward propagation is the algorithm that takes an input, runs it through the network and makes a prediction. There is a basic form of this algorithm that operates on a single layer, and the output is passed as input to the subsequent layer. Here I implement a forward propagation for a single layer.\n",
    "\n",
    "$$Z = Wx + b$$\n",
    "$$A = f(Z)$$\n",
    "#### Where f(x) is the activation function"
   ]
  },
  {
   "cell_type": "code",
   "execution_count": 11,
   "id": "fe8da3e0",
   "metadata": {},
   "outputs": [],
   "source": [
    "def forward_propagation(weights, bias, layer_input, activation='relu'):\n",
    "    \"\"\"Implements a single step of forward propagation\"\"\"\n",
    "    \"\"\"Inputs\n",
    "            weights: array of weights for this layer\n",
    "            bias: vector of bias values for this layer\n",
    "            layer_input: the input to this layer\n",
    "            activation_function: the activation to be used on this layer - 'relu' by default\n",
    "       Outputs\n",
    "            Z: the result of Wx + b (needed for back propagation)\n",
    "            activation: The activated result of Wx + b\"\"\"\n",
    "    \n",
    "    Z = np.dot(weights, layer_input) + bias\n",
    "    \n",
    "    if activation == 'relu':\n",
    "        A = reLU(Z)\n",
    "    elif activation == 'softmax':\n",
    "        A = softmax(Z)\n",
    "        \n",
    "    return A , Z\n",
    "    \n",
    "    "
   ]
  },
  {
   "cell_type": "code",
   "execution_count": 12,
   "id": "67b1699c",
   "metadata": {},
   "outputs": [],
   "source": [
    "nodes = [np.shape(X_train)[0], 30, 20, 10]\n",
    "weights, biases = initialize_parameters(nodes)\n",
    "A1, Z1 = forward_propagation(weights[1], biases[1], X_train, activation='relu')\n",
    "A2, Z2 = forward_propagation(weights[2], biases[2], A1, activation='relu')\n",
    "A3, Z3 = forward_propagation(weights[3], biases[3], A2, activation='softmax')"
   ]
  },
  {
   "cell_type": "markdown",
   "id": "0735643e",
   "metadata": {},
   "source": [
    "# Part 5 - Cost Function\n",
    "### The cost function is a function that sums the differences between every value the model predicts, and its true value. It is this cost function we are trying to minimize. When the predictions are really small, the cost value will also be small. I use a function called categorical cross entropy. The total function (summed over all examples) is defined as follows:"
   ]
  },
  {
   "cell_type": "markdown",
   "id": "91169bfb",
   "metadata": {},
   "source": [
    "$$ J = -(1/m)\\Sigma_{j=0}^{M}\\Sigma_{i=0}^{N}(y_{i} * log(a_{ij}))$$\n",
    "\n",
    "Where M = Number of examples and N = Number of classes"
   ]
  },
  {
   "cell_type": "code",
   "execution_count": 13,
   "id": "75679549",
   "metadata": {},
   "outputs": [],
   "source": [
    "def cross_entropy_cost(y_true, y_predicted):\n",
    "    \"\"\"Calculate the cross entropy loss\"\"\"\n",
    "    \"\"\"Inputs\n",
    "            y_true: Array of the true labels\n",
    "            y_predicted: Array of the predicted labels\n",
    "            \n",
    "       Outputs\n",
    "               J: the cross entropy loss (a single value)\"\"\"\n",
    "    \n",
    "    # Find the number of examples\n",
    "    m = np.shape(y_true)[1]\n",
    "    # Calculate the log of y_predicted\n",
    "    log_y_pred = np.log(y_predicted)\n",
    "    \n",
    "    # Multiply by the true labels\n",
    "    product = y_true * log_y_pred\n",
    "    \n",
    "    # sum across rows and columns\n",
    "    J = -np.sum(product)\n",
    "    \n",
    "    return J / m\n",
    "    \n",
    "       "
   ]
  },
  {
   "cell_type": "markdown",
   "id": "c91f5d11",
   "metadata": {},
   "source": [
    "# Part 6 - Backpropagation\n",
    "\n",
    "### Backpropagation is the the heart and soul of a Neural Network. Backpropagation is the process by which the weights and biases are determined. "
   ]
  },
  {
   "cell_type": "markdown",
   "id": "c4925756",
   "metadata": {},
   "source": [
    "## The Math"
   ]
  },
  {
   "cell_type": "markdown",
   "id": "9f2a9e95",
   "metadata": {},
   "source": [
    "### For a single input example, the loss or error can be expressed using categorical cross entropy, which was seen briefly above as part of the overall cost function. Here it is again all on it's own:\n",
    "$$ L = \\Sigma_{i=0}^{N}(y_{i} * log(a_{i}))$$\n",
    "#### Where N = # of Classes\n",
    "\n",
    "### The goal is to differentiate the loss function with respect to the adjustable parameters, $ W_l, b_l$ where $ l $ is the $l^{th}$ layer of the network. This is a process that requires extensive use of the chain rule, and also the derivation of the Softmax function. The following videos from Coding Lane and ML Dawn are extremely helpful:\n",
    "[Coding Lane](https://www.youtube.com/watch?v=f-nW8cSa_Ec) <br>\n",
    "[ML Dawn](https://www.youtube.com/watch?v=znqbtL0fRA0)"
   ]
  },
  {
   "cell_type": "markdown",
   "id": "18573a20",
   "metadata": {},
   "source": [
    "### The reason for the extensive use of the chain rule is due to the fact that the loss function $L$ is a function of $a_i$, but $a_i$ is a function of $z_i$, which is a function of $W$ and $b$. And that is only for one layer. $z_i$ is a function of the previous layers activation, $a_{i_{prev}}$, so the process must continue all the way back to the first layers parameters $W_1$ and $b_1$. For a 3 layer network, here are all of the derivatives of L with respect to the weights and biases of each layer expressed in partial derivatives:\n",
    "\n",
    "#### Note: The subscripts used here, i.e., $a_{l}, W_{l}$, etc, indicate the $l^{th}$ layer of $a$, not the index.\n",
    "\n",
    "\n",
    "$\\frac{\\partial L}{\\partial W_3} = \\frac{\\partial L}{\\partial a_3}\\frac{\\partial a_3}{\\partial z_3}\\frac{\\partial z_3}{\\partial W_3} $ <br><br>\n",
    "$\\frac{\\partial L}{\\partial b_3} = \\frac{\\partial L}{\\partial a_3}\\frac{\\partial a_3}{\\partial z_3}\\frac{\\partial z_3}{\\partial b_3}$<br><br><br>\n",
    "$\\frac{\\partial L}{\\partial W_2} = \\frac{\\partial L}{\\partial a_3}\\frac{\\partial a_3}{\\partial z_3}\\frac{\\partial z_3}{\\partial a_2}\\frac{\\partial a_2}{\\partial z_2}\\frac{\\partial z_2}{\\partial W_2}$<br><br>\n",
    "$\\frac{\\partial L}{\\partial b_2} = \\frac{\\partial L}{\\partial a_3}\\frac{\\partial a_3}{\\partial z_3}\\frac{\\partial z_3}{\\partial a_2}\\frac{\\partial a_2}{\\partial z_2}\\frac{\\partial z_2}{\\partial b_2}$<br><br><br>\n",
    "$\\frac{\\partial L}{\\partial W_1} = \\frac{\\partial L}{\\partial a_3}\\frac{\\partial a_3}{\\partial z_3}\\frac{\\partial z_3}{\\partial a_2}\\frac{\\partial a_2}{\\partial z_2}\\frac{\\partial z_2}{\\partial a_1}\\frac{\\partial a_1}{\\partial z_1}\\frac{\\partial z_1}{\\partial W_1}$<br><br>\n",
    "$\\frac{\\partial L}{\\partial b_1} = \\frac{\\partial L}{\\partial a_3}\\frac{\\partial a_3}{\\partial z_3}\\frac{\\partial z_3}{\\partial a_2}\\frac{\\partial a_2}{\\partial z_2}\\frac{\\partial z_2}{\\partial a_1}\\frac{\\partial a_1}{\\partial z_1}\\frac{\\partial z_1}{\\partial b_1}$<br><br><br>\n",
    "\n",
    "\n"
   ]
  },
  {
   "cell_type": "markdown",
   "id": "6944c0dd",
   "metadata": {},
   "source": [
    "## Simplifying"
   ]
  },
  {
   "cell_type": "markdown",
   "id": "0d329e6b",
   "metadata": {},
   "source": [
    "### Fortunately, there are more concise ways to write these equations. One can see that $\\frac{\\partial L}{\\partial z_l}$ terms are in each equation. Also, $\\frac{\\partial z_l}{\\partial W_l} = a_{(l-1)}$ and $\\frac{\\partial z_l}{\\partial b_l} = 1$"
   ]
  },
  {
   "cell_type": "markdown",
   "id": "83b637ad",
   "metadata": {},
   "source": [
    "$\\frac{\\partial L}{\\partial W_3} = \\frac{\\partial L}{\\partial z_3}a_2$<br><br>\n",
    "$\\frac{\\partial L}{\\partial b_3} = \\frac{\\partial L}{\\partial z_3}$<br><br><br>\n",
    "\n",
    "$\\frac{\\partial L}{\\partial W_2} = \\frac{\\partial L}{\\partial z_2}a_1$<br><br>\n",
    "$\\frac{\\partial L}{\\partial b_2} = \\frac{\\partial L}{\\partial z_2}$<br><br><br>\n",
    "\n",
    "$\\frac{\\partial L}{\\partial W_1} = \\frac{\\partial L}{\\partial z_1}a_0$ (a0 = input vector)<br><br>\n",
    "$\\frac{\\partial L}{\\partial b_1} = \\frac{\\partial L}{\\partial z_1}$<br><br><br>\n",
    "\n",
    "\n"
   ]
  },
  {
   "cell_type": "markdown",
   "id": "3ade609b",
   "metadata": {},
   "source": [
    "## Simplifying Further..."
   ]
  },
  {
   "cell_type": "markdown",
   "id": "f915a682",
   "metadata": {},
   "source": [
    "### At this point the equations still expressed in terms of derivatives. This issue is addressed by evaluating $\\frac{\\partial L}{\\partial z_3}$.  Because this derivative involves the derivative of the softmax function, this term evalutes to $\\frac{\\partial L}{\\partial W_3} = (a - y)$ where $a$ is the predicted value output of softmax (in this case a vector), and $y$ is the vector with the correct one-hot label."
   ]
  },
  {
   "cell_type": "markdown",
   "id": "fb0bacf4",
   "metadata": {},
   "source": [
    "### At this point a pattern begins to emerge. It can be seen that $\\frac{\\partial L}{\\partial z_2}$ can be expressed in terms of $\\frac{\\partial L}{\\partial z_3}$, and $\\frac{\\partial L}{\\partial z_1}$ in terms of $\\frac{\\partial L}{\\partial z_2}$"
   ]
  },
  {
   "cell_type": "markdown",
   "id": "39cfd713",
   "metadata": {},
   "source": [
    "$\\frac{\\partial L}{\\partial z_2} = \\frac{\\partial L}{\\partial z_3}W_3\\frac{\\partial a_2}{\\partial z_2}$<br><br>\n",
    "$\\frac{\\partial L}{\\partial z_1} = \\frac{\\partial L}{\\partial z_2}W_2\\frac{\\partial a_1}{\\partial z_1}$\n"
   ]
  },
  {
   "cell_type": "markdown",
   "id": "ec988802",
   "metadata": {},
   "source": [
    "### It turns out for all hidden layers a general pattern can be expressed:\n",
    "$$\\frac{\\partial L}{\\partial z_l} = \\frac{\\partial L}{\\partial z_{l+1}}W_{l+1}\\frac{\\partial a_l}{\\partial z_l}$$"
   ]
  },
  {
   "cell_type": "markdown",
   "id": "52989259",
   "metadata": {},
   "source": [
    "### To make this a little more readable, remember that $\\frac{\\partial a_l}{\\partial z_l}$ is the derivative of the activation function of the hidden layers, in this case ReLU. Which means if we change the form to $f'(z_l)$, then this general pattern for the hidden layers becomes:\n",
    "$$\\frac{\\partial L}{\\partial z_l} = \\frac{\\partial L}{\\partial z_{l+1}}W_{l+1} * f'(z_l)$$\n",
    "\n",
    "#### The * indicates element-wise multiplication."
   ]
  },
  {
   "cell_type": "markdown",
   "id": "d1142a6b",
   "metadata": {},
   "source": [
    "## Bringing it all together...\n",
    "\n",
    "### Remember that all of these equations are for a single input example. The last thing that needs to be done is to express all of this in terms of the total cost function $J$, or across the whole dataset. The results are the vectorized versions of these equations.\n",
    "\n",
    "### For the final layer ($F$): \n",
    "$$ \\frac{\\partial J}{\\partial Z_F} = A_F - Y $$<br>\n",
    "$$ \\frac{\\partial J}{\\partial W_F} = \\frac{1}{m}(A_F - Y)A_{F-1}^{T}$$<br>\n",
    "$$ \\frac{\\partial J}{\\partial b_F} = \\frac{1}{m}sum((A_F - Y), axis = 1)$$<br><br>\n",
    "\n",
    "### For all hidden layers ($l$):\n",
    "$$\\frac{\\partial J}{\\partial Z_l} = W_{l+1}^T\\frac{\\partial J}{\\partial Z_{l+1}} * f'(Z_l)$$<br>\n",
    "$$\\frac{\\partial J}{\\partial W_l} = \\frac{1}{m}\\frac{\\partial J}{\\partial Z_{l+1}}A_{l-1}^{T}$$<br>\n",
    "$$\\frac{\\partial J}{\\partial b_l} = \\frac{1}{m}sum(\\frac{\\partial J}{\\partial Z_{l+1}}, axis=1)$$<br><br>\n",
    "#### Note: In order for matrix multiplication to work in $\\frac{\\partial J}{\\partial Z_l}$,   the weight matrix $W_{l+1}$ must be transposed and come before $\\frac{\\partial J}{\\partial Z_{l+1}}$.\n",
    "#### Note: The reason for the sum in the gradient with respect to b is because every column is the gradient of a single example, so all must be added, hence $axis=1$ (a pythonic way of expressing this sum).\n",
    "\n",
    "\n"
   ]
  },
  {
   "cell_type": "markdown",
   "id": "c47dba5f",
   "metadata": {},
   "source": [
    "## The Derivative of ReLU"
   ]
  },
  {
   "cell_type": "markdown",
   "id": "223e841b",
   "metadata": {},
   "source": [
    "### There is one more thing needed to implement these equations, and that is the derivative of relu, which fortunately is quite simple.\n",
    "\n",
    "#### If $ReLU(x) = f(x)$, then $f'(x) = \\begin{cases}\n",
    "1&\\text{if}&x > 0\\\\\n",
    "0&\\text{if}&x \\leq 0\\\\\n",
    "\\end{cases}$\n"
   ]
  },
  {
   "cell_type": "code",
   "execution_count": 14,
   "id": "bbe2940f",
   "metadata": {},
   "outputs": [],
   "source": [
    "def derivative_ReLU(array):\n",
    "    \"\"\"Calculates the derivative of ReLU for every element in array\"\"\"\n",
    "    \"\"\"Input:array\n",
    "       Output: the elementwise derivative of array\"\"\"\n",
    "    \n",
    "    array = np.heaviside(array, 0)\n",
    "    \n",
    "    return array\n",
    "    \n"
   ]
  },
  {
   "cell_type": "markdown",
   "id": "6033dbc9",
   "metadata": {},
   "source": [
    "## Backpropagation Function"
   ]
  },
  {
   "cell_type": "code",
   "execution_count": 15,
   "id": "eb9f6c14",
   "metadata": {},
   "outputs": [],
   "source": [
    "def backward_propagation(dJZ_prev, W_prev, Z, A_prev, m):\n",
    "    \"\"\"Computes one step of backward propagation\"\"\"\n",
    "    \"\"\"Input:\n",
    "            dJZ_prev: derivative wrt Z of the previous layer\n",
    "            W_prev: the weight matrix of the previous layer\n",
    "            A_prev\n",
    "            Z:  the pre-activated output of the current layer\n",
    "            m: the number of examples \n",
    "            \n",
    "       Output:\n",
    "             dJZ - gradient wrt Z of the current layer\n",
    "             dJW - gradient wrt W of the current layer\n",
    "             dJb - gradient wrt b of the current layer\"\"\"\n",
    "    \n",
    "    \n",
    "    dJZ = (1 / m) * np.dot(np.transpose(W_prev), dJZ_prev) * derivative_ReLU(Z)\n",
    "    dJW = (1 / m) * np.dot(dJZ, np.transpose(A_prev))\n",
    "    dJb = (1 / m) * np.sum(dJZ, axis=1, keepdims=True)\n",
    "    \n",
    "    return dJZ, dJW, dJb\n",
    "    "
   ]
  },
  {
   "cell_type": "markdown",
   "id": "43840a72",
   "metadata": {},
   "source": [
    "## Preparing the Data into Batches for Batch Gradient Descent\n",
    "#### This method of training the data requires the input to be split into smaller batches. The purpose is to help the network train faster. This works because it is easier for the hardware to compute a gradient descent step with a smaller portion of the data as opposed to entire dataset."
   ]
  },
  {
   "cell_type": "code",
   "execution_count": 18,
   "id": "e15c7bc2",
   "metadata": {},
   "outputs": [],
   "source": [
    "x_train_batches = []\n",
    "y_train_batches = []\n",
    "\n",
    "batch_size = 1024 #This number is chosen as computer hardware scales by factors of 2.(2^10)\n",
    "num_batches = int(np.ceil(X_train.shape[1] / batch_size))\n",
    "for i in range(num_batches):\n",
    "    if i == num_batches - 1:\n",
    "        x_batch_i = X_train[:, batch_size * i :]\n",
    "        y_batch_i = Y_train_oh[:, batch_size * i :] \n",
    "    else:   \n",
    "        x_batch_i = X_train[:, batch_size * i : batch_size * (i+1)]\n",
    "        y_batch_i = Y_train_oh[:, batch_size * i : batch_size * (i+1)]\n",
    "\n",
    "    x_train_batches.append(x_batch_i)\n",
    "    y_train_batches.append(y_batch_i)\n",
    "    "
   ]
  },
  {
   "cell_type": "markdown",
   "id": "2e97ab02",
   "metadata": {},
   "source": [
    "## Part 7 - The Model"
   ]
  },
  {
   "cell_type": "markdown",
   "id": "d4ea9ca4",
   "metadata": {},
   "source": [
    "### The model introduces a couple of new concepts. Epochs, and the learning rate, alpha. Epochs is the number of times the entire dataset is run through the network. Alpha ($\\alpha$) is a scaling factor for the derivatives before they are subtracted from the previous parameter values.\n",
    "\n",
    "$$ W_l = W_l - \\alpha \\frac{\\partial J}{\\partial W_l}$$<br>\n",
    "$$ b_l = b_l - \\alpha \\frac{\\partial J}{\\partial b_l}$$"
   ]
  },
  {
   "cell_type": "markdown",
   "id": "290e40e6",
   "metadata": {},
   "source": [
    "### When the model is ran, it will compute the weights and biases that decrease the total cost."
   ]
  },
  {
   "cell_type": "code",
   "execution_count": 74,
   "id": "2d8e6404",
   "metadata": {},
   "outputs": [],
   "source": [
    "def neural_network(arch, X, Y, X_test, Y_test, epochs, alpha):\n",
    "    \"\"\"Solves for and returns the weights of the neural network\"\"\"\n",
    "    \"\"\"Input:\n",
    "            arch: A vector of length l where l is the number of layers and the values\n",
    "                            are the number of nodes\n",
    "            X: The input array (a list of np arrays)\n",
    "            Y: The label array (a list of np arrays)\n",
    "            X_test: The test data array\n",
    "            Y_test: The test label array\n",
    "            epochs: # of epochs to train on\n",
    "            alpha: Learning rate\n",
    "       Output: The optimized parameters W and b.\"\"\"\n",
    "    \n",
    "    # The number of examples\n",
    "    # m = np.shape(X)[1] \n",
    "    \n",
    "    # Initialize the parameters\n",
    "    W, b = initialize_parameters(arch)\n",
    "    \n",
    "    # Initialize cost vector\n",
    "    J_train = np.zeros(epochs)\n",
    "    J_test = np.zeros(epochs)\n",
    "    \n",
    "    # Run forward and backprop \n",
    "    for i in range(epochs): # Loop through epochs (entire data set)\n",
    "        for j in range(len(X)): # Loop through batches\n",
    "        # Find the number examples in batch j\n",
    "            m_batch = np.shape(X[j])[1]\n",
    "            # Perform forward propagation through on the training set.\n",
    "            A1, Z1 = forward_propagation(W[1], b[1], X[j], activation='relu')\n",
    "            A2, Z2 = forward_propagation(W[2], b[2], A1, activation='relu')\n",
    "            A3, Z3 = forward_propagation(W[3], b[3], A2, activation='softmax')\n",
    "\n",
    "            # Perform forward propgation on the test set (to see how well the network performs on this set of parameters).\n",
    "            A1_test, Z1_test = forward_propagation(W[1], b[1], X_test, activation='relu')\n",
    "            A2_test, Z2_test = forward_propagation(W[2], b[2], A1_test, activation='relu')\n",
    "            A3_test, Z3_test = forward_propagation(W[3], b[3], A2_test, activation='softmax')\n",
    "\n",
    "            # Compute the cost for this epoch\n",
    "            J_train_i = cross_entropy_cost(Y[j], A3)\n",
    "            J_train[i] = J_train_i\n",
    "            J_test_i = cross_entropy_cost(Y_test_oh, A3_test)\n",
    "            J_test[i] = J_test_i\n",
    "\n",
    "\n",
    "            # Compute the gradients for the final layer ------------> transposing may be an issue\n",
    "            dJZ3 = A3 - Y[j]\n",
    "            dJW3 = (1 / m_batch) * np.dot((A3 - Y[j]), np.transpose(A2))\n",
    "            dJb3 = (1 / m_batch) * np.sum((A3 - Y[j]), axis=1, keepdims=True)\n",
    "\n",
    "\n",
    "            # Compute the gradients for the hidden layers\n",
    "            dJZ2, dJW2, dJb2 = backward_propagation(dJZ3, W[3], Z2, A1, m_batch)\n",
    "            dJZ1, dJW1, dJb1 = backward_propagation(dJZ2, W[2], Z1, X[j], m_batch)\n",
    "\n",
    "            # Update the parameters\n",
    "            W[3] -= alpha * dJW3\n",
    "            b[3] -= alpha * dJb3\n",
    "            W[2] -= alpha * dJW2\n",
    "            b[2] -= alpha * dJb2\n",
    "            W[1] -= alpha * dJW1\n",
    "            b[1] -= alpha * dJb1\n",
    "\n",
    "    return J_train, J_test, W, b\n",
    "        \n",
    "        \n",
    "        \n",
    "    \n",
    "    "
   ]
  },
  {
   "cell_type": "code",
   "execution_count": 73,
   "id": "e8e50948",
   "metadata": {},
   "outputs": [
    {
     "name": "stdout",
     "output_type": "stream",
     "text": [
      "Train time: 71.82362914085388\n"
     ]
    }
   ],
   "source": [
    "X = x_train_batches\n",
    "Y = y_train_batches\n",
    "arch = [np.shape(X[0])[0], 128, 64, 10] # For the purposes of this notebook, this must be 4 elements long and the last value must be 10.\n",
    "epochs = 10\n",
    "alpha = 1.2 # 5 is unusual for a learning rate. Typically they range between 10^-6 and 1.\n",
    "\n",
    "# Run and time the training of the network\n",
    "start = time.time()\n",
    "train_cost, test_cost, W_solved, b_solved = neural_network(arch, X, Y, X_test, Y_test_oh, epochs, alpha)\n",
    "end = time.time()\n",
    "print(f'Train time: {end-start}')"
   ]
  },
  {
   "cell_type": "code",
   "execution_count": 65,
   "id": "1478046d",
   "metadata": {},
   "outputs": [
    {
     "data": {
      "image/png": "[encoded data removed]",
      "text/plain": [
       "<Figure size 432x288 with 1 Axes>"
      ]
     },
     "metadata": {
      "needs_background": "light"
     },
     "output_type": "display_data"
    }
   ],
   "source": [
    "plt.plot(np.arange(epochs), train_cost)\n",
    "plt.plot(np.arange(epochs), test_cost)\n",
    "plt.legend(['train', 'test'], loc='upper right')\n",
    "plt.xlabel('Epoch')\n",
    "plt.ylabel('Cost')\n",
    "plt.title('Loss Curve')\n",
    "plt.show()\n"
   ]
  },
  {
   "cell_type": "markdown",
   "id": "7cfc07e7",
   "metadata": {},
   "source": [
    "### Here is the Loss Curve. This curve shows how the cost is affected as the amount of time/experience the network has increases. The training curve is less than the test curve which is expected. They are both decreasing, but beginning to level out, indicating that the training time is approaching its optimum.\n",
    "\n",
    "#### In a separate notebook I implemented a this same algorithm without batch gradient descent. Not only does it take more than 3 times as long to train (while taking fewer steps) the accuracy is less than that with batch gradient descent."
   ]
  },
  {
   "cell_type": "markdown",
   "id": "8b0f09ff",
   "metadata": {},
   "source": [
    "## Part 8 - Testing the Model"
   ]
  },
  {
   "cell_type": "markdown",
   "id": "5d53c243",
   "metadata": {},
   "source": [
    "### Now that a model has been generated, its accuracy must be determined against both the training set and the test set. Ideally, the training set should have higher accuracy than the test set since it was trained to fit the training data."
   ]
  },
  {
   "cell_type": "code",
   "execution_count": 66,
   "id": "e5f4cf97",
   "metadata": {},
   "outputs": [],
   "source": [
    "def prediction(X, W, b):\n",
    "    \"\"\"Calculate the predictions of the network\"\"\"\n",
    "    \"\"\"Input: \n",
    "            X: train/test dataset\n",
    "            W: solved weights\n",
    "            b: solved biases\n",
    "            \n",
    "       Returns:\n",
    "            predictions: the predictions of the network\"\"\"\n",
    "    \n",
    "    # Run the dataset forward through the network.\n",
    "    A1, Z1 = forward_propagation(W[1], b[1], X, activation='relu')\n",
    "    A2, Z2 = forward_propagation(W[2], b[2], A1, activation='relu')\n",
    "    A3, Z3 = forward_propagation(W[3], b[3], A2, activation='softmax')\n",
    "    \n",
    "    # Find the prediction (the index value of the max value in each column).\n",
    "    pred = np.argmax(A3, axis=0)\n",
    "    \n",
    "    return pred\n",
    "    \n",
    "    "
   ]
  },
  {
   "cell_type": "code",
   "execution_count": 68,
   "id": "e03b16b0",
   "metadata": {},
   "outputs": [],
   "source": [
    "# Find the predictions of the model on the train and test set\n",
    "train_predict = prediction(X_train, W_solved, b_solved)\n",
    "test_predict = prediction(X_test, W_solved, b_solved)"
   ]
  },
  {
   "cell_type": "code",
   "execution_count": 69,
   "id": "b417f568",
   "metadata": {
    "scrolled": true
   },
   "outputs": [
    {
     "name": "stdout",
     "output_type": "stream",
     "text": [
      "Training Set Accuracy is 71.77 %\n",
      "Test Set Accuracy is 72.37 %\n"
     ]
    }
   ],
   "source": [
    "# Determine how many of each set was accurate.\n",
    "a = (train_predict == Y_train)\n",
    "b = (test_predict == Y_test)\n",
    "train_accuracy = np.sum(a) / len(Y_train)\n",
    "test_accuracy = np.sum(b) / len(Y_test)\n",
    "print(f'Training Set Accuracy is {train_accuracy*100:.2f} %')\n",
    "print(f'Test Set Accuracy is {test_accuracy*100:.2f} %')\n"
   ]
  },
  {
   "cell_type": "code",
   "execution_count": 23,
   "id": "bee03b22",
   "metadata": {},
   "outputs": [
    {
     "name": "stdout",
     "output_type": "stream",
     "text": [
      "[[ 792    6   40   15   12   26   11   33   12   33]\n",
      " [   0 1037   29    4    4   27    4    7   17    6]\n",
      " [  32   45  644   75   28   30   68   30   54   26]\n",
      " [   8   31   49  715   16   66   21   48   25   31]\n",
      " [  10   25   23   29  658   35   59   26   18   99]\n",
      " [  29   42   48  109   56  331   37   76  103   61]\n",
      " [  40   25   59    2   40   35  698   13   19   27]\n",
      " [  35   47   39   18   16    9   19  744   30   71]\n",
      " [  29   55   61   55   46   46   31   43  569   39]\n",
      " [  34   40   13   33  126   30   50  131   47  505]]\n"
     ]
    }
   ],
   "source": [
    "# Compare labels to their predictions.\n",
    "label_and_prediction = np.zeros((10, 10), dtype=np.int16)\n",
    "\n",
    "for i in range(len(Y_test)):\n",
    "    label_and_prediction[Y_test[i], test_predict[i]] += 1\n",
    "\n",
    "print(label_and_prediction)"
   ]
  },
  {
   "cell_type": "markdown",
   "id": "8cce2483",
   "metadata": {},
   "source": [
    "## Part 9 - Conclusions"
   ]
  },
  {
   "cell_type": "markdown",
   "id": "ea0dcab8",
   "metadata": {},
   "source": [
    "### This was a great learning experience. First I prepared the dataset to be acceptable to a neural network. Then I created activation functions. Next came the forward and backward propgation functions along with the cross entropy function. Afterward it all came together to solve a neural network with many times better accuracy than random guessing!"
   ]
  },
  {
   "cell_type": "code",
   "execution_count": 24,
   "id": "44898008",
   "metadata": {},
   "outputs": [
    {
     "data": {
      "image/png": "[encoded data removed]",
      "text/plain": [
       "<Figure size 432x288 with 1 Axes>"
      ]
     },
     "metadata": {
      "needs_background": "light"
     },
     "output_type": "display_data"
    },
    {
     "name": "stdout",
     "output_type": "stream",
     "text": [
      "    This image is labeled as a \"3\"\n",
      "\n",
      "    This image is predicted as a 3\n"
     ]
    }
   ],
   "source": [
    "# Look at an image from the test set, see its label and prediction.\n",
    "ex_img = 5212\n",
    "image = X_tst[ex_img]\n",
    "fig = plt.figure\n",
    "plt.imshow(image, cmap='gray')\n",
    "plt.show()\n",
    "print(f'    This image is labeled as a \"{Y_tst[ex_img]}\"\\n')\n",
    "print(f'    This image is predicted as a {test_predict[ex_img]}')"
   ]
  },
  {
   "cell_type": "code",
   "execution_count": null,
   "id": "81fee557",
   "metadata": {},
   "outputs": [],
   "source": []
  }
 ],
 "metadata": {
  "kernelspec": {
   "display_name": "Python 3 (ipykernel)",
   "language": "python",
   "name": "python3"
  },
  "language_info": {
   "codemirror_mode": {
    "name": "ipython",
    "version": 3
   },
   "file_extension": ".py",
   "mimetype": "text/x-python",
   "name": "python",
   "nbconvert_exporter": "python",
   "pygments_lexer": "ipython3",
   "version": "3.9.12"
  }
 },
 "nbformat": 4,
 "nbformat_minor": 5
}
